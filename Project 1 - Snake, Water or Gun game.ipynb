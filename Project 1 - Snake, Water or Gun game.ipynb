{
 "cells": [
  {
   "cell_type": "markdown",
   "id": "95b2336a",
   "metadata": {},
   "source": [
    "## Snake Water Gun  Game"
   ]
  },
  {
   "cell_type": "code",
   "execution_count": 3,
   "id": "93ade635",
   "metadata": {},
   "outputs": [
    {
     "name": "stdout",
     "output_type": "stream",
     "text": [
      "comp Turn : Snake(s) Water(w) or Gun(g)\n",
      "Your Turn : Snake(s) Water(w) or Gun(g)s\n",
      "Computer Chose w\n",
      "You Chose s\n",
      "You Win!\n"
     ]
    }
   ],
   "source": [
    "import random\n",
    "\n",
    "def gameWin(comp,you) :                       # if two values are equal,declare a tie!\n",
    "    if comp == you :\n",
    "        return None\n",
    "    \n",
    "    elif comp == 's' :                        # Cheak for all possiblities when computer chose 's'\n",
    "        if you == 'w' :\n",
    "            return False\n",
    "        elif you == 'g' :\n",
    "            return True\n",
    "    \n",
    "    \n",
    "    elif comp == 'w' :                       # Cheak for all possiblities when computer chose 'w'\n",
    "        if you == 'g' :\n",
    "            return False\n",
    "        elif you == 's' :\n",
    "            return True\n",
    "    \n",
    "    \n",
    "    elif comp == 'g' :                     # Cheak for all possiblities when computer chose 'g'\n",
    "        if you == 's' :\n",
    "            return False\n",
    "        elif you == 'w' :\n",
    "            return True\n",
    "    \n",
    "    \n",
    "\n",
    "    \n",
    "print(\"comp Turn : Snake(s) Water(w) or Gun(g)\")\n",
    "\n",
    "randNo = random . randint (1,3)\n",
    "\n",
    "if randNo == 1 :\n",
    "    comp = 's'\n",
    "    \n",
    "elif randNo == 2 :\n",
    "    comp = 'w'\n",
    "    \n",
    "elif randNo == 1 :\n",
    "    comp = 'g'\n",
    "    \n",
    "    \n",
    "    \n",
    "you = input(\"Your Turn : Snake(s) Water(w) or Gun(g)\")\n",
    "\n",
    "a = gameWin(comp,you)\n",
    "\n",
    "print(f\"Computer Chose {comp}\")\n",
    "print(f\"You Chose {you}\")\n",
    "\n",
    "\n",
    "if a == None :\n",
    "    print(\"The game is a Tie!\")\n",
    "    \n",
    "elif a :\n",
    "    print(\"You Win!\")\n",
    "    \n",
    "else :\n",
    "    print(\"You Loss!\")"
   ]
  },
  {
   "cell_type": "code",
   "execution_count": null,
   "id": "468fb7e8",
   "metadata": {},
   "outputs": [],
   "source": []
  },
  {
   "cell_type": "code",
   "execution_count": null,
   "id": "eef2f678",
   "metadata": {},
   "outputs": [],
   "source": []
  },
  {
   "cell_type": "code",
   "execution_count": null,
   "id": "14e2f161",
   "metadata": {},
   "outputs": [],
   "source": []
  }
 ],
 "metadata": {
  "kernelspec": {
   "display_name": "Python 3 (ipykernel)",
   "language": "python",
   "name": "python3"
  },
  "language_info": {
   "codemirror_mode": {
    "name": "ipython",
    "version": 3
   },
   "file_extension": ".py",
   "mimetype": "text/x-python",
   "name": "python",
   "nbconvert_exporter": "python",
   "pygments_lexer": "ipython3",
   "version": "3.9.7"
  }
 },
 "nbformat": 4,
 "nbformat_minor": 5
}
